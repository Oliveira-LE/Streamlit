{
  "cells": [
    {
      "cell_type": "markdown",
      "metadata": {
        "id": "bSk6a3_NzezU"
      },
      "source": [
        "Instalação do Streamlit"
      ]
    },
    {
      "cell_type": "code",
      "execution_count": 9,
      "metadata": {
        "id": "Zv0JbFruwJNK",
        "colab": {
          "base_uri": "https://localhost:8080/"
        },
        "outputId": "13e26474-29ed-4def-ed1a-28c2afbfc1ac"
      },
      "outputs": [
        {
          "output_type": "stream",
          "name": "stdout",
          "text": [
            "Requirement already satisfied: streamlit in /usr/local/lib/python3.11/dist-packages (1.42.2)\n",
            "Requirement already satisfied: altair<6,>=4.0 in /usr/local/lib/python3.11/dist-packages (from streamlit) (5.5.0)\n",
            "Requirement already satisfied: blinker<2,>=1.0.0 in /usr/local/lib/python3.11/dist-packages (from streamlit) (1.9.0)\n",
            "Requirement already satisfied: cachetools<6,>=4.0 in /usr/local/lib/python3.11/dist-packages (from streamlit) (5.5.1)\n",
            "Requirement already satisfied: click<9,>=7.0 in /usr/local/lib/python3.11/dist-packages (from streamlit) (8.1.8)\n",
            "Requirement already satisfied: numpy<3,>=1.23 in /usr/local/lib/python3.11/dist-packages (from streamlit) (1.26.4)\n",
            "Requirement already satisfied: packaging<25,>=20 in /usr/local/lib/python3.11/dist-packages (from streamlit) (24.2)\n",
            "Requirement already satisfied: pandas<3,>=1.4.0 in /usr/local/lib/python3.11/dist-packages (from streamlit) (2.2.2)\n",
            "Requirement already satisfied: pillow<12,>=7.1.0 in /usr/local/lib/python3.11/dist-packages (from streamlit) (11.1.0)\n",
            "Requirement already satisfied: protobuf<6,>=3.20 in /usr/local/lib/python3.11/dist-packages (from streamlit) (4.25.6)\n",
            "Requirement already satisfied: pyarrow>=7.0 in /usr/local/lib/python3.11/dist-packages (from streamlit) (17.0.0)\n",
            "Requirement already satisfied: requests<3,>=2.27 in /usr/local/lib/python3.11/dist-packages (from streamlit) (2.32.3)\n",
            "Requirement already satisfied: rich<14,>=10.14.0 in /usr/local/lib/python3.11/dist-packages (from streamlit) (13.9.4)\n",
            "Requirement already satisfied: tenacity<10,>=8.1.0 in /usr/local/lib/python3.11/dist-packages (from streamlit) (9.0.0)\n",
            "Requirement already satisfied: toml<2,>=0.10.1 in /usr/local/lib/python3.11/dist-packages (from streamlit) (0.10.2)\n",
            "Requirement already satisfied: typing-extensions<5,>=4.4.0 in /usr/local/lib/python3.11/dist-packages (from streamlit) (4.12.2)\n",
            "Requirement already satisfied: watchdog<7,>=2.1.5 in /usr/local/lib/python3.11/dist-packages (from streamlit) (6.0.0)\n",
            "Requirement already satisfied: gitpython!=3.1.19,<4,>=3.0.7 in /usr/local/lib/python3.11/dist-packages (from streamlit) (3.1.44)\n",
            "Requirement already satisfied: pydeck<1,>=0.8.0b4 in /usr/local/lib/python3.11/dist-packages (from streamlit) (0.9.1)\n",
            "Requirement already satisfied: tornado<7,>=6.0.3 in /usr/local/lib/python3.11/dist-packages (from streamlit) (6.4.2)\n",
            "Requirement already satisfied: jinja2 in /usr/local/lib/python3.11/dist-packages (from altair<6,>=4.0->streamlit) (3.1.5)\n",
            "Requirement already satisfied: jsonschema>=3.0 in /usr/local/lib/python3.11/dist-packages (from altair<6,>=4.0->streamlit) (4.23.0)\n",
            "Requirement already satisfied: narwhals>=1.14.2 in /usr/local/lib/python3.11/dist-packages (from altair<6,>=4.0->streamlit) (1.27.1)\n",
            "Requirement already satisfied: gitdb<5,>=4.0.1 in /usr/local/lib/python3.11/dist-packages (from gitpython!=3.1.19,<4,>=3.0.7->streamlit) (4.0.12)\n",
            "Requirement already satisfied: python-dateutil>=2.8.2 in /usr/local/lib/python3.11/dist-packages (from pandas<3,>=1.4.0->streamlit) (2.8.2)\n",
            "Requirement already satisfied: pytz>=2020.1 in /usr/local/lib/python3.11/dist-packages (from pandas<3,>=1.4.0->streamlit) (2025.1)\n",
            "Requirement already satisfied: tzdata>=2022.7 in /usr/local/lib/python3.11/dist-packages (from pandas<3,>=1.4.0->streamlit) (2025.1)\n",
            "Requirement already satisfied: charset-normalizer<4,>=2 in /usr/local/lib/python3.11/dist-packages (from requests<3,>=2.27->streamlit) (3.4.1)\n",
            "Requirement already satisfied: idna<4,>=2.5 in /usr/local/lib/python3.11/dist-packages (from requests<3,>=2.27->streamlit) (3.10)\n",
            "Requirement already satisfied: urllib3<3,>=1.21.1 in /usr/local/lib/python3.11/dist-packages (from requests<3,>=2.27->streamlit) (2.3.0)\n",
            "Requirement already satisfied: certifi>=2017.4.17 in /usr/local/lib/python3.11/dist-packages (from requests<3,>=2.27->streamlit) (2025.1.31)\n",
            "Requirement already satisfied: markdown-it-py>=2.2.0 in /usr/local/lib/python3.11/dist-packages (from rich<14,>=10.14.0->streamlit) (3.0.0)\n",
            "Requirement already satisfied: pygments<3.0.0,>=2.13.0 in /usr/local/lib/python3.11/dist-packages (from rich<14,>=10.14.0->streamlit) (2.18.0)\n",
            "Requirement already satisfied: smmap<6,>=3.0.1 in /usr/local/lib/python3.11/dist-packages (from gitdb<5,>=4.0.1->gitpython!=3.1.19,<4,>=3.0.7->streamlit) (5.0.2)\n",
            "Requirement already satisfied: MarkupSafe>=2.0 in /usr/local/lib/python3.11/dist-packages (from jinja2->altair<6,>=4.0->streamlit) (3.0.2)\n",
            "Requirement already satisfied: attrs>=22.2.0 in /usr/local/lib/python3.11/dist-packages (from jsonschema>=3.0->altair<6,>=4.0->streamlit) (25.1.0)\n",
            "Requirement already satisfied: jsonschema-specifications>=2023.03.6 in /usr/local/lib/python3.11/dist-packages (from jsonschema>=3.0->altair<6,>=4.0->streamlit) (2024.10.1)\n",
            "Requirement already satisfied: referencing>=0.28.4 in /usr/local/lib/python3.11/dist-packages (from jsonschema>=3.0->altair<6,>=4.0->streamlit) (0.36.2)\n",
            "Requirement already satisfied: rpds-py>=0.7.1 in /usr/local/lib/python3.11/dist-packages (from jsonschema>=3.0->altair<6,>=4.0->streamlit) (0.22.3)\n",
            "Requirement already satisfied: mdurl~=0.1 in /usr/local/lib/python3.11/dist-packages (from markdown-it-py>=2.2.0->rich<14,>=10.14.0->streamlit) (0.1.2)\n",
            "Requirement already satisfied: six>=1.5 in /usr/local/lib/python3.11/dist-packages (from python-dateutil>=2.8.2->pandas<3,>=1.4.0->streamlit) (1.17.0)\n"
          ]
        }
      ],
      "source": [
        "!pip install streamlit"
      ]
    },
    {
      "cell_type": "markdown",
      "metadata": {
        "id": "aE-yAMsHznk3"
      },
      "source": [
        "Criar um aplicativo Streamlit e salvar em um arquivo local."
      ]
    },
    {
      "cell_type": "code",
      "execution_count": 10,
      "metadata": {
        "colab": {
          "base_uri": "https://localhost:8080/"
        },
        "id": "iNjk9dqMvwy5",
        "outputId": "f7f3ff58-dcaa-40ce-ce63-b458fcc33786"
      },
      "outputs": [
        {
          "output_type": "stream",
          "name": "stdout",
          "text": [
            "Overwriting app.py\n"
          ]
        }
      ],
      "source": [
        "%%writefile app.py\n",
        "import streamlit as st\n",
        "import requests\n",
        "import pandas as pd\n",
        "import plotly.express as px\n",
        "\n",
        "st.set_page_config(layout= 'wide')\n",
        "\n",
        "def formata_numero(valor, prefixo = ''):\n",
        "    for unidade in ['', 'mil']:\n",
        "        if valor <1000:\n",
        "            return f'{prefixo} {valor:.2f} {unidade}'\n",
        "        valor /= 1000\n",
        "    return f'{prefixo} {valor:.2f} milhões'\n",
        "\n",
        "st.title('DASHBOARD DE VENDAS :shopping_trolley:')\n",
        "\n",
        "url = 'https://labdados.com/produtos'\n",
        "regioes = ['Brasil', 'Centro-Oeste', 'Nordeste', 'Norte', 'Sudeste', 'Sul']\n",
        "\n",
        "st.sidebar.title('Filtros')\n",
        "regiao = st.sidebar.selectbox('Região', regioes)\n",
        "\n",
        "if regiao == 'Brasil':\n",
        "    regiao = ''\n",
        "\n",
        "todos_anos = st.sidebar.checkbox('Dados de todo o período', value = True)\n",
        "if todos_anos:\n",
        "    ano = ''\n",
        "else:\n",
        "    ano = st.sidebar.slider('Ano', 2020, 2023)\n",
        "\n",
        "query_string = {'regiao':regiao.lower(), 'ano':ano}\n",
        "response = requests.get(url, params= query_string)\n",
        "dados = pd.DataFrame.from_dict(response.json())\n",
        "dados['Data da Compra'] = pd.to_datetime(dados['Data da Compra'], format = '%d/%m/%Y')\n",
        "\n",
        "filtro_vendedores = st.sidebar.multiselect('Vendedores', dados['Vendedor'].unique())\n",
        "if filtro_vendedores:\n",
        "    dados = dados[dados['Vendedor'].isin(filtro_vendedores)]\n",
        "\n",
        "## Tabelas\n",
        "### Tabelas de receita\n",
        "receita_estados = dados.groupby('Local da compra')[['Preço']].sum()\n",
        "receita_estados = dados.drop_duplicates(subset= 'Local da compra')[['Local da compra', 'lat', 'lon']].merge(receita_estados, left_on = 'Local da compra', right_index = True).sort_values('Preço', ascending= False)\n",
        "\n",
        "receita_mensal = dados.set_index('Data da Compra').groupby(pd.Grouper(freq = 'M'))['Preço'].sum().reset_index()\n",
        "receita_mensal['Ano'] = receita_mensal['Data da Compra'].dt.year\n",
        "receita_mensal['Mes'] = receita_mensal['Data da Compra'].dt.month_name()\n",
        "\n",
        "receita_categorias = dados.groupby('Categoria do Produto')[['Preço']].sum().sort_values('Preço', ascending = False)\n",
        "\n",
        "### Tabelas de quantidade de vendas\n",
        "vendas_estados = pd.DataFrame(dados.groupby('Local da compra')['Preço'].count())\n",
        "vendas_estados = dados.drop_duplicates(subset = 'Local da compra')[['Local da compra','lat', 'lon']].merge(vendas_estados, left_on = 'Local da compra', right_index = True).sort_values('Preço', ascending = False)\n",
        "\n",
        "vendas_mensal = pd.DataFrame(dados.set_index('Data da Compra').groupby(pd.Grouper(freq = 'M'))['Preço'].count()).reset_index()\n",
        "vendas_mensal['Ano'] = vendas_mensal['Data da Compra'].dt.year\n",
        "vendas_mensal['Mes'] = vendas_mensal['Data da Compra'].dt.month_name()\n",
        "\n",
        "vendas_categorias = pd.DataFrame(dados.groupby('Categoria do Produto')['Preço'].count().sort_values(ascending = False))\n",
        "\n",
        "### Tabelas vendedores\n",
        "vendedores = pd.DataFrame(dados.groupby('Vendedor')['Preço'].agg(['sum', 'count']))\n",
        "\n",
        "## Gráficos\n",
        "### Gráficos receita\n",
        "fig_mapa_receita = px.scatter_geo(receita_estados,\n",
        "                                  lat = 'lat',\n",
        "                                  lon = 'lon',\n",
        "                                  scope = 'south america',\n",
        "                                  size = 'Preço',\n",
        "                                  template = 'seaborn',\n",
        "                                  hover_name = 'Local da compra',\n",
        "                                  hover_data = {'lat': False, 'lon': False},\n",
        "                                  title = 'Receita por estado')\n",
        "\n",
        "fig_receita_mensal = px.line(receita_mensal,\n",
        "                             x = 'Mes',\n",
        "                             y = 'Preço',\n",
        "                             markers = True,\n",
        "                             range_y = (0, receita_mensal.max()),\n",
        "                             color = 'Ano',\n",
        "                             line_dash = 'Ano',\n",
        "                             title = 'Receita mensal')\n",
        "\n",
        "fig_receita_mensal.update_layout(yaxis_title = 'Receita')\n",
        "\n",
        "fig_receita_estados = px.bar(receita_estados.head(),\n",
        "                             x = 'Local da compra',\n",
        "                             y = 'Preço',\n",
        "                             text_auto = True,\n",
        "                             title = 'Top estados (receita)')\n",
        "\n",
        "fig_receita_estados.update_layout(yaxis_title = 'Receita')\n",
        "\n",
        "fig_receita_categorias = px.bar(receita_categorias,\n",
        "                                text_auto = True,\n",
        "                                title = 'Receita por categoria')\n",
        "\n",
        "fig_receita_categorias.update_layout(yaxis_title = 'Receita')\n",
        "\n",
        "### Gráficos vendas\n",
        "fig_mapa_vendas = px.scatter_geo(vendas_estados,\n",
        "                     lat = 'lat',\n",
        "                     lon= 'lon',\n",
        "                     scope = 'south america',\n",
        "                     #fitbounds = 'locations',\n",
        "                     template='seaborn',\n",
        "                     size = 'Preço',\n",
        "                     hover_name ='Local da compra',\n",
        "                     hover_data = {'lat':False,'lon':False},\n",
        "                     title = 'Vendas por estado',\n",
        "                     )\n",
        "\n",
        "fig_vendas_estados = px.bar(vendas_estados.head(),\n",
        "                             x ='Local da compra',\n",
        "                             y = 'Preço',\n",
        "                             text_auto = True,\n",
        "                             title = 'Top 5 estados'\n",
        ")\n",
        "\n",
        "fig_vendas_estados.update_layout(yaxis_title='Quantidade de vendas')\n",
        "\n",
        "fig_vendas_mensal = px.line(vendas_mensal,\n",
        "              x = 'Mes',\n",
        "              y='Preço',\n",
        "              markers = True,\n",
        "              range_y = (0,vendas_mensal.max()),\n",
        "              color = 'Ano',\n",
        "              line_dash = 'Ano',\n",
        "              title = 'Quantidade de vendas mensal')\n",
        "\n",
        "fig_vendas_mensal.update_layout(yaxis_title='Quantidade de vendas')\n",
        "\n",
        "fig_vendas_categorias = px.bar(vendas_categorias,\n",
        "                                text_auto = True,\n",
        "                                title = 'Vendas por categoria')\n",
        "fig_vendas_categorias.update_layout(showlegend=False, yaxis_title='Quantidade de vendas')\n",
        "\n",
        "\n",
        "## Visualizacao no streamlit\n",
        "aba1, aba2, aba3 = st.tabs(['Receita', 'Quantidade de vendas', 'Vendedores'])\n",
        "\n",
        "with aba1:\n",
        "    coluna1, coluna2 = st.columns(2)\n",
        "    with coluna1:\n",
        "        st.metric('Receita', formata_numero(dados['Preço'].sum(), 'R$'))\n",
        "        st.plotly_chart(fig_mapa_receita, use_container_width= True)\n",
        "        st.plotly_chart(fig_receita_estados, use_container_width= True)\n",
        "    with coluna2:\n",
        "        st.metric('Quantidade de vendas', formata_numero(dados.shape[0]))\n",
        "        st.plotly_chart(fig_receita_mensal, use_container_width= True)\n",
        "        st.plotly_chart(fig_receita_categorias, use_container_width= True)\n",
        "with aba2:\n",
        "    coluna1, coluna2 = st.columns(2)\n",
        "    with coluna1:\n",
        "        st.metric('Receita', formata_numero(dados['Preço'].sum(), 'R$'))\n",
        "        st.plotly_chart(fig_mapa_vendas, use_container_width = True)\n",
        "        st.plotly_chart(fig_vendas_estados, use_container_width = True)\n",
        "    with coluna2:\n",
        "        st.metric('Quantidade de vendas', formata_numero(dados.shape[0]))\n",
        "        st.plotly_chart(fig_vendas_mensal, use_container_width = True)\n",
        "        st.plotly_chart(fig_vendas_categorias, use_container_width = True)\n",
        "with aba3:\n",
        "    qtd_vendedores = st.number_input('Quantidade de vendedores', 2, 10, 5)\n",
        "    coluna1, coluna2 = st.columns(2)\n",
        "    with coluna1:\n",
        "        st.metric('Receita', formata_numero(dados['Preço'].sum(), 'R$'))\n",
        "        fig_receita_vendedores = px.bar(vendedores[['sum']].sort_values('sum', ascending = False).head(qtd_vendedores),\n",
        "                                        x = 'sum',\n",
        "                                        y = vendedores[['sum']].sort_values('sum', ascending = False).head(qtd_vendedores).index,\n",
        "                                        text_auto = True,\n",
        "                                        title = f'Top {qtd_vendedores} vendedores (receita)')\n",
        "        st.plotly_chart(fig_receita_vendedores, use_container_width = True)\n",
        "    with coluna2:\n",
        "        st.metric('Quantidade de vendas', formata_numero(dados.shape[0]))\n",
        "        fig_vendas_vendedores = px.bar(vendedores[['count']].sort_values('count', ascending = False).head(qtd_vendedores),\n",
        "                                        x = 'count',\n",
        "                                        y = vendedores[['count']].sort_values('count', ascending = False).head(qtd_vendedores).index,\n",
        "                                        text_auto = True,\n",
        "                                        title = f'Top {qtd_vendedores} vendedores (quantidade de vendas)')\n",
        "        st.plotly_chart(fig_vendas_vendedores, use_container_width = True)\n",
        "\n"
      ]
    },
    {
      "cell_type": "markdown",
      "metadata": {
        "id": "GstOuhjZzvT4"
      },
      "source": [
        "Verificar arquivos criados:"
      ]
    },
    {
      "cell_type": "code",
      "execution_count": 11,
      "metadata": {
        "colab": {
          "base_uri": "https://localhost:8080/"
        },
        "id": "BLAjuq3EzyEn",
        "outputId": "80f7b112-32e4-44ef-a945-0cc2acce1297"
      },
      "outputs": [
        {
          "output_type": "stream",
          "name": "stdout",
          "text": [
            "total 52\n",
            "drwxr-xr-x  1 root root 4096 Feb 25 20:36 .\n",
            "drwxr-xr-x  1 root root 4096 Feb 25 20:32 ..\n",
            "-rw-r--r--  1 root root 8241 Feb 25 20:55 app.py\n",
            "drwxr-xr-x  4 root root 4096 Feb 21 14:21 .config\n",
            "-rw-r--r--  1 root root 2347 Feb 25 20:39 logs.txt\n",
            "drwxr-xr-x 25 root root 4096 Feb 25 20:36 node_modules\n",
            "-rw-r--r--  1 root root   56 Feb 25 20:36 package.json\n",
            "-rw-r--r--  1 root root 9076 Feb 25 20:36 package-lock.json\n",
            "drwxr-xr-x  1 root root 4096 Feb 21 14:21 sample_data\n",
            "import streamlit as st\n",
            "import requests\n",
            "import pandas as pd\n",
            "import plotly.express as px\n",
            "\n",
            "st.set_page_config(layout= 'wide')\n",
            "\n",
            "def formata_numero(valor, prefixo = ''):\n",
            "    for unidade in ['', 'mil']:\n",
            "        if valor <1000:\n",
            "            return f'{prefixo} {valor:.2f} {unidade}'\n",
            "        valor /= 1000\n",
            "    return f'{prefixo} {valor:.2f} milhões'\n",
            "\n",
            "st.title('DASHBOARD DE VENDAS :shopping_trolley:')\n",
            "\n",
            "url = 'https://labdados.com/produtos'\n",
            "regioes = ['Brasil', 'Centro-Oeste', 'Nordeste', 'Norte', 'Sudeste', 'Sul']\n",
            "\n",
            "st.sidebar.title('Filtros')\n",
            "regiao = st.sidebar.selectbox('Região', regioes)\n",
            "\n",
            "if regiao == 'Brasil':\n",
            "    regiao = ''\n",
            "\n",
            "todos_anos = st.sidebar.checkbox('Dados de todo o período', value = True)\n",
            "if todos_anos:\n",
            "    ano = ''\n",
            "else:\n",
            "    ano = st.sidebar.slider('Ano', 2020, 2023)\n",
            "\n",
            "query_string = {'regiao':regiao.lower(), 'ano':ano}\n",
            "response = requests.get(url, params= query_string)\n",
            "dados = pd.DataFrame.from_dict(response.json())\n",
            "dados['Data da Compra'] = pd.to_datetime(dados['Data da Compra'], format = '%d/%m/%Y')\n",
            "\n",
            "filtro_vendedores = st.sidebar.multiselect('Vendedores', dados['Vendedor'].unique())\n",
            "if filtro_vendedores:\n",
            "    dados = dados[dados['Vendedor'].isin(filtro_vendedores)]\n",
            "\n",
            "## Tabelas\n",
            "### Tabelas de receita\n",
            "receita_estados = dados.groupby('Local da compra')[['Preço']].sum()\n",
            "receita_estados = dados.drop_duplicates(subset= 'Local da compra')[['Local da compra', 'lat', 'lon']].merge(receita_estados, left_on = 'Local da compra', right_index = True).sort_values('Preço', ascending= False)\n",
            "\n",
            "receita_mensal = dados.set_index('Data da Compra').groupby(pd.Grouper(freq = 'M'))['Preço'].sum().reset_index()\n",
            "receita_mensal['Ano'] = receita_mensal['Data da Compra'].dt.year\n",
            "receita_mensal['Mes'] = receita_mensal['Data da Compra'].dt.month_name()\n",
            "\n",
            "receita_categorias = dados.groupby('Categoria do Produto')[['Preço']].sum().sort_values('Preço', ascending = False)\n",
            "\n",
            "### Tabelas de quantidade de vendas\n",
            "vendas_estados = pd.DataFrame(dados.groupby('Local da compra')['Preço'].count())\n",
            "vendas_estados = dados.drop_duplicates(subset = 'Local da compra')[['Local da compra','lat', 'lon']].merge(vendas_estados, left_on = 'Local da compra', right_index = True).sort_values('Preço', ascending = False)\n",
            "\n",
            "vendas_mensal = pd.DataFrame(dados.set_index('Data da Compra').groupby(pd.Grouper(freq = 'M'))['Preço'].count()).reset_index()\n",
            "vendas_mensal['Ano'] = vendas_mensal['Data da Compra'].dt.year\n",
            "vendas_mensal['Mes'] = vendas_mensal['Data da Compra'].dt.month_name()\n",
            "\n",
            "vendas_categorias = pd.DataFrame(dados.groupby('Categoria do Produto')['Preço'].count().sort_values(ascending = False))\n",
            "\n",
            "### Tabelas vendedores\n",
            "vendedores = pd.DataFrame(dados.groupby('Vendedor')['Preço'].agg(['sum', 'count']))\n",
            "\n",
            "## Gráficos\n",
            "### Gráficos receita\n",
            "fig_mapa_receita = px.scatter_geo(receita_estados,\n",
            "                                  lat = 'lat',\n",
            "                                  lon = 'lon',\n",
            "                                  scope = 'south america',\n",
            "                                  size = 'Preço',\n",
            "                                  template = 'seaborn',\n",
            "                                  hover_name = 'Local da compra',\n",
            "                                  hover_data = {'lat': False, 'lon': False},\n",
            "                                  title = 'Receita por estado')\n",
            "\n",
            "fig_receita_mensal = px.line(receita_mensal,\n",
            "                             x = 'Mes',\n",
            "                             y = 'Preço',\n",
            "                             markers = True,\n",
            "                             range_y = (0, receita_mensal.max()),\n",
            "                             color = 'Ano',\n",
            "                             line_dash = 'Ano',\n",
            "                             title = 'Receita mensal')\n",
            "\n",
            "fig_receita_mensal.update_layout(yaxis_title = 'Receita')\n",
            "\n",
            "fig_receita_estados = px.bar(receita_estados.head(),\n",
            "                             x = 'Local da compra',\n",
            "                             y = 'Preço',\n",
            "                             text_auto = True,\n",
            "                             title = 'Top estados (receita)')\n",
            "\n",
            "fig_receita_estados.update_layout(yaxis_title = 'Receita')\n",
            "\n",
            "fig_receita_categorias = px.bar(receita_categorias,\n",
            "                                text_auto = True,\n",
            "                                title = 'Receita por categoria')\n",
            "\n",
            "fig_receita_categorias.update_layout(yaxis_title = 'Receita')\n",
            "\n",
            "### Gráficos vendas\n",
            "fig_mapa_vendas = px.scatter_geo(vendas_estados, \n",
            "                     lat = 'lat', \n",
            "                     lon= 'lon', \n",
            "                     scope = 'south america', \n",
            "                     #fitbounds = 'locations', \n",
            "                     template='seaborn', \n",
            "                     size = 'Preço', \n",
            "                     hover_name ='Local da compra', \n",
            "                     hover_data = {'lat':False,'lon':False},\n",
            "                     title = 'Vendas por estado',\n",
            "                     )\n",
            "\n",
            "fig_vendas_estados = px.bar(vendas_estados.head(),\n",
            "                             x ='Local da compra',\n",
            "                             y = 'Preço',\n",
            "                             text_auto = True,\n",
            "                             title = 'Top 5 estados'\n",
            ")\n",
            "\n",
            "fig_vendas_estados.update_layout(yaxis_title='Quantidade de vendas')\n",
            "\n",
            "fig_vendas_mensal = px.line(vendas_mensal, \n",
            "              x = 'Mes',\n",
            "              y='Preço',\n",
            "              markers = True, \n",
            "              range_y = (0,vendas_mensal.max()), \n",
            "              color = 'Ano', \n",
            "              line_dash = 'Ano',\n",
            "              title = 'Quantidade de vendas mensal')\n",
            "\n",
            "fig_vendas_mensal.update_layout(yaxis_title='Quantidade de vendas')\n",
            "\n",
            "fig_vendas_categorias = px.bar(vendas_categorias, \n",
            "                                text_auto = True,\n",
            "                                title = 'Vendas por categoria')\n",
            "fig_vendas_categorias.update_layout(showlegend=False, yaxis_title='Quantidade de vendas')\n",
            "\n",
            "\n",
            "## Visualizacao no streamlit\n",
            "aba1, aba2, aba3 = st.tabs(['Receita', 'Quantidade de vendas', 'Vendedores'])\n",
            "\n",
            "with aba1:\n",
            "    coluna1, coluna2 = st.columns(2)\n",
            "    with coluna1:\n",
            "        st.metric('Receita', formata_numero(dados['Preço'].sum(), 'R$'))\n",
            "        st.plotly_chart(fig_mapa_receita, use_container_width= True)\n",
            "        st.plotly_chart(fig_receita_estados, use_container_width= True)\n",
            "    with coluna2:\n",
            "        st.metric('Quantidade de vendas', formata_numero(dados.shape[0]))\n",
            "        st.plotly_chart(fig_receita_mensal, use_container_width= True)\n",
            "        st.plotly_chart(fig_receita_categorias, use_container_width= True)\n",
            "with aba2:\n",
            "    coluna1, coluna2 = st.columns(2)\n",
            "    with coluna1:\n",
            "        st.metric('Receita', formata_numero(dados['Preço'].sum(), 'R$'))\n",
            "        st.plotly_chart(fig_mapa_vendas, use_container_width = True)\n",
            "        st.plotly_chart(fig_vendas_estados, use_container_width = True)\n",
            "    with coluna2:\n",
            "        st.metric('Quantidade de vendas', formata_numero(dados.shape[0]))\n",
            "        st.plotly_chart(fig_vendas_mensal, use_container_width = True)\n",
            "        st.plotly_chart(fig_vendas_categorias, use_container_width = True)\n",
            "with aba3:\n",
            "    qtd_vendedores = st.number_input('Quantidade de vendedores', 2, 10, 5)\n",
            "    coluna1, coluna2 = st.columns(2)\n",
            "    with coluna1:\n",
            "        st.metric('Receita', formata_numero(dados['Preço'].sum(), 'R$'))\n",
            "        fig_receita_vendedores = px.bar(vendedores[['sum']].sort_values('sum', ascending = False).head(qtd_vendedores),\n",
            "                                        x = 'sum',\n",
            "                                        y = vendedores[['sum']].sort_values('sum', ascending = False).head(qtd_vendedores).index,\n",
            "                                        text_auto = True,\n",
            "                                        title = f'Top {qtd_vendedores} vendedores (receita)')\n",
            "        st.plotly_chart(fig_receita_vendedores, use_container_width = True)\n",
            "    with coluna2:\n",
            "        st.metric('Quantidade de vendas', formata_numero(dados.shape[0]))\n",
            "        fig_vendas_vendedores = px.bar(vendedores[['count']].sort_values('count', ascending = False).head(qtd_vendedores),\n",
            "                                        x = 'count',\n",
            "                                        y = vendedores[['count']].sort_values('count', ascending = False).head(qtd_vendedores).index,\n",
            "                                        text_auto = True,\n",
            "                                        title = f'Top {qtd_vendedores} vendedores (quantidade de vendas)')\n",
            "        st.plotly_chart(fig_vendas_vendedores, use_container_width = True)\n",
            "         \n"
          ]
        }
      ],
      "source": [
        "! ls -la # verifica arquivos\n",
        "! cat app.py # visualizar conteudo do arquivo"
      ]
    },
    {
      "cell_type": "markdown",
      "metadata": {
        "id": "pGDXbA4dz2Kf"
      },
      "source": [
        "Instalar o localtunnel para servir o aplicativo Streamlit"
      ]
    },
    {
      "cell_type": "code",
      "execution_count": 12,
      "metadata": {
        "colab": {
          "base_uri": "https://localhost:8080/"
        },
        "id": "-4B1miN4v4wQ",
        "outputId": "bfe8632a-7176-4587-e429-b426b12b6818"
      },
      "outputs": [
        {
          "output_type": "stream",
          "name": "stdout",
          "text": [
            "\u001b[1G\u001b[0K⠙\u001b[1G\u001b[0K⠹\u001b[1G\u001b[0K⠸\u001b[1G\u001b[0K⠼\u001b[1G\u001b[0K⠴\u001b[1G\u001b[0K⠦\u001b[1G\u001b[0K⠧\u001b[1G\u001b[0K⠇\u001b[1G\u001b[0K⠏\u001b[1G\u001b[0K⠋\u001b[1G\u001b[0K⠙\u001b[1G\u001b[0K⠹\u001b[1G\u001b[0K⠸\u001b[1G\u001b[0K⠼\u001b[1G\u001b[0K\n",
            "up to date, audited 23 packages in 2s\n",
            "\u001b[1G\u001b[0K⠼\u001b[1G\u001b[0K\n",
            "\u001b[1G\u001b[0K⠼\u001b[1G\u001b[0K3 packages are looking for funding\n",
            "\u001b[1G\u001b[0K⠼\u001b[1G\u001b[0K  run `npm fund` for details\n",
            "\u001b[1G\u001b[0K⠼\u001b[1G\u001b[0K\n",
            "2 \u001b[33m\u001b[1mmoderate\u001b[22m\u001b[39m severity vulnerabilities\n",
            "\n",
            "To address all issues (including breaking changes), run:\n",
            "  npm audit fix --force\n",
            "\n",
            "Run `npm audit` for details.\n",
            "\u001b[1G\u001b[0K⠼\u001b[1G\u001b[0K"
          ]
        }
      ],
      "source": [
        "!npm install localtunnel"
      ]
    },
    {
      "cell_type": "markdown",
      "metadata": {
        "id": "rscWli7-z7AH"
      },
      "source": [
        "Executar o aplicativo Streamlit em segundo plano"
      ]
    },
    {
      "cell_type": "code",
      "execution_count": 13,
      "metadata": {
        "id": "u3138Loqv8sQ"
      },
      "outputs": [],
      "source": [
        "!streamlit run /content/app.py &>/content/logs.txt &"
      ]
    },
    {
      "cell_type": "markdown",
      "metadata": {
        "id": "S6Ihg5PIz9Us"
      },
      "source": [
        "Exibir a password"
      ]
    },
    {
      "cell_type": "code",
      "execution_count": 14,
      "metadata": {
        "colab": {
          "base_uri": "https://localhost:8080/"
        },
        "id": "UIlWibcTvvbn",
        "outputId": "8f9b0cc6-c40e-4dda-813b-8fe722b7b47d"
      },
      "outputs": [
        {
          "output_type": "stream",
          "name": "stdout",
          "text": [
            "Password/Enpoint IP for localtunnel is: 34.125.104.29\n"
          ]
        }
      ],
      "source": [
        "import urllib\n",
        "print(\"Password/Enpoint IP for localtunnel is:\",urllib.request.urlopen('https://ipv4.icanhazip.com').read().decode('utf8').strip(\"\\n\"))"
      ]
    },
    {
      "cell_type": "markdown",
      "metadata": {
        "id": "2fJwWUFG0Da_"
      },
      "source": [
        "Expor o aplicativo Streamlit na porta 8501"
      ]
    },
    {
      "cell_type": "code",
      "execution_count": null,
      "metadata": {
        "colab": {
          "base_uri": "https://localhost:8080/"
        },
        "id": "oWGI_eyxwCBh",
        "outputId": "f698c1fe-a752-43fc-fd86-936327650a7d"
      },
      "outputs": [
        {
          "output_type": "stream",
          "name": "stdout",
          "text": [
            "\u001b[1G\u001b[0K⠙\u001b[1G\u001b[0Kyour url is: https://solid-geese-bet.loca.lt\n"
          ]
        }
      ],
      "source": [
        "!npx localtunnel --port 8501"
      ]
    },
    {
      "cell_type": "markdown",
      "metadata": {
        "id": "r3YhHZ_t0Jbv"
      },
      "source": [
        "Após a execução das células, o aplicativo Streamlit estará disponível em uma URL https://***.loca.lt\n",
        "\n",
        "-> clicar para iniciar o aplicativo.\n",
        "\n",
        "inserir a passoword na página local tunel quando for solicitado."
      ]
    },
    {
      "cell_type": "code",
      "execution_count": null,
      "metadata": {
        "id": "rf8wK7nX0kPp"
      },
      "outputs": [],
      "source": []
    }
  ],
  "metadata": {
    "colab": {
      "provenance": []
    },
    "kernelspec": {
      "display_name": "Python 3",
      "name": "python3"
    },
    "language_info": {
      "name": "python"
    }
  },
  "nbformat": 4,
  "nbformat_minor": 0
}